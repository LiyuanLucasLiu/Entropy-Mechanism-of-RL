{
 "cells": [
  {
   "cell_type": "code",
   "execution_count": null,
   "id": "930c97d3",
   "metadata": {
    "vscode": {
     "languageId": "plaintext"
    }
   },
   "outputs": [],
   "source": [
    "from verl import DataProto\n",
    "\n",
    "test_batch32 = DataProto.from_single_dict(data32)"
   ]
  }
 ],
 "metadata": {
  "language_info": {
   "name": "python"
  }
 },
 "nbformat": 4,
 "nbformat_minor": 5
}
